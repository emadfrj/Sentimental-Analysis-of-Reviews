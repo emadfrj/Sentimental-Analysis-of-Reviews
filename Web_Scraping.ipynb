{
  "cells": [
    {
      "cell_type": "markdown",
      "metadata": {
        "id": "view-in-github",
        "colab_type": "text"
      },
      "source": [
        "<a href=\"https://colab.research.google.com/github/emadfrj/Sentimental-Analysis-of-Reviews/blob/main/Web_Scraping.ipynb\" target=\"_parent\"><img src=\"https://colab.research.google.com/assets/colab-badge.svg\" alt=\"Open In Colab\"/></a>"
      ]
    },
    {
      "cell_type": "markdown",
      "metadata": {
        "id": "qD_9-E4bH-Na"
      },
      "source": [
        "# Scrapting reviews for British Airway"
      ]
    },
    {
      "cell_type": "markdown",
      "metadata": {
        "id": "zvomE7rPH-Nh"
      },
      "source": [
        "Extracting reviews for British Airways from www.airlinequality.com and saving the information in a CSV file. Capturing various review-related fields such as ratings, aircraft details, and verification status of the flight."
      ]
    },
    {
      "cell_type": "markdown",
      "metadata": {
        "id": "_V3zvUPNH-Ni"
      },
      "source": [
        "## Using BeautifulSoup library to scrap the data"
      ]
    },
    {
      "cell_type": "code",
      "execution_count": 1,
      "metadata": {
        "id": "jWPnxffPH-Nj"
      },
      "outputs": [],
      "source": [
        "import requests\n",
        "from bs4 import BeautifulSoup"
      ]
    },
    {
      "cell_type": "markdown",
      "metadata": {
        "id": "7yPv1Mu3H-Nl"
      },
      "source": [
        "## Function to capture review rating fields.\n",
        "These field consist of three types. Text field, rating star, and the airway is recommend or not."
      ]
    },
    {
      "cell_type": "code",
      "execution_count": 2,
      "metadata": {
        "id": "ABJO-8mxH-Nm"
      },
      "outputs": [],
      "source": [
        "def get_rating_value(ratings,Variable_name):\n",
        "    for rating in ratings:\n",
        "        attribute = rating.find('td', class_=\"review-rating-header\")\n",
        "        if attribute.text.strip() == Variable_name:\n",
        "            value = rating.find('td', class_=\"review-value\")\n",
        "            stars = rating.find('td', class_=\"review-rating-stars\")\n",
        "            #For recommended\n",
        "            if Variable_name == \"Recommended\":\n",
        "                if value.text.strip() == \"yes\":\n",
        "                    return 1\n",
        "                if value.text.strip() == \"no\":\n",
        "                    return 0\n",
        "            #For text field\n",
        "            elif value:\n",
        "                return value.text.strip()\n",
        "            #For rrating stars\n",
        "            elif stars:\n",
        "                fillstars = stars.find_all('span', class_ = 'fill')\n",
        "                return len(fillstars)\n",
        "\n",
        "    return \"\""
      ]
    },
    {
      "cell_type": "markdown",
      "metadata": {
        "id": "j4iJCYLPH-Nn"
      },
      "source": [
        "## Remove special characters and clean the text"
      ]
    },
    {
      "cell_type": "code",
      "execution_count": 3,
      "metadata": {
        "id": "svqYJMaHH-Nn"
      },
      "outputs": [],
      "source": [
        "import re\n",
        "def remove_special_characters(input_string):\n",
        "    # Use a regular expression to remove non-alphanumeric characters\n",
        "    cleaned_string = re.sub(r'[^a-zA-Z0-9\\s]', '', input_string)\n",
        "    return cleaned_string"
      ]
    },
    {
      "cell_type": "markdown",
      "metadata": {
        "id": "JjY75DaKH-No"
      },
      "source": [
        "## Get the data and store it in Reviews list"
      ]
    },
    {
      "cell_type": "code",
      "execution_count": 4,
      "metadata": {
        "id": "Rl6F7QuwH-No"
      },
      "outputs": [],
      "source": [
        "# Url to get 1000 reviews\n",
        "url = 'https://www.airlinequality.com/airline-reviews/british-airways/?sortby=post_date%3ADesc&pagesize=1000'\n",
        "\n",
        "# Send an HTTP GET request to the URL\n",
        "response = requests.get(url)\n",
        "Reviews = []\n",
        "# Check if the request was successful (status code 200)\n",
        "if response.status_code == 200:\n",
        "    # Parse the HTML content of the page\n",
        "    soup = BeautifulSoup(response.text, 'html.parser')\n",
        "\n",
        "    # Find the article block that contain review\n",
        "    # the specified classes of the article block\n",
        "    target_classes = ['comp', 'comp_reviews-airline', 'querylist', 'position-content']\n",
        "    article_block = soup.find('article', class_=target_classes)\n",
        "\n",
        "    if article_block:\n",
        "        # Find all child articles within the article block(list of reviews)\n",
        "        review_articles = article_block.find_all('article')\n",
        "\n",
        "        # for each review\n",
        "        for review_article in review_articles:\n",
        "            #an empty row to add to Reviews list\n",
        "            Review = {}\n",
        "            #Getting overall Rating\n",
        "            overallRatingDiv = review_article.find('div', class_=\"rating-10\")\n",
        "            overallRating = eval(overallRatingDiv.text.strip())\n",
        "            Review['overallRating'] = float(overallRating)\n",
        "            #Getting Text of review\n",
        "            textdiv = review_article.find('div', class_=\"text_content\")\n",
        "            Review['Text'] = remove_special_characters(textdiv.text.strip())\n",
        "            #Trip Verification Status\n",
        "            verified = textdiv.find('em')\n",
        "            if verified.text.strip() == \"Trip Verified\":\n",
        "                Review['verified'] = 1\n",
        "            else:\n",
        "                Review['verified'] = 0\n",
        "            #Other fields\n",
        "            #Getting rows of a table consisting other fields\n",
        "            ratings_list = review_article.find('table')\n",
        "            ratings = ratings_list.find_all('tr')\n",
        "            # text fields\n",
        "            Review['Aircraft'] = get_rating_value(ratings,'Aircraft')\n",
        "            Review['Type Of Traveller'] = get_rating_value(ratings,'Type Of Traveller')\n",
        "            Review['Seat Type'] = get_rating_value(ratings,'Seat Type')\n",
        "            Review['Route'] = get_rating_value(ratings,'Route')\n",
        "            Review['Date Flown'] = get_rating_value(ratings,'Date Flown')\n",
        "            # star rating fields\n",
        "            Review['Seat Comfort'] = get_rating_value(ratings,'Seat Comfort')\n",
        "            Review['Cabin Staff Service'] = get_rating_value(ratings,'Cabin Staff Service')\n",
        "            Review['Food & Beverages'] = get_rating_value(ratings,'Food & Beverages')\n",
        "            Review['Inflight Entertainment'] = get_rating_value(ratings,'Inflight Entertainment')\n",
        "            Review['Ground Service'] = get_rating_value(ratings,'Ground Service')\n",
        "            Review['Wifi & Connectivity'] = get_rating_value(ratings,'Wifi & Connectivity')\n",
        "            Review['Value For Money'] = get_rating_value(ratings,'Value For Money')\n",
        "            # is recommended field\n",
        "            Review['Recommended'] = get_rating_value(ratings,'Recommended')\n",
        "            # Adding the row to the list of Reviews\n",
        "            Reviews.append(Review)\n",
        "    else:\n",
        "        print(\"Article block not found.\")\n",
        "\n",
        "else:\n",
        "    print(f\"Failed to retrieve the page. Status code: {response.status_code}\")\n",
        "\n",
        "#print(Reviews)"
      ]
    },
    {
      "cell_type": "markdown",
      "metadata": {
        "id": "etLTDt5EH-Nq"
      },
      "source": [
        "## Storing the data to CSV file"
      ]
    },
    {
      "cell_type": "code",
      "execution_count": 5,
      "metadata": {
        "colab": {
          "base_uri": "https://localhost:8080/"
        },
        "id": "1NojYfM4H-Nq",
        "outputId": "e973ab61-de7f-4bd9-c284-0dc0b0811c16"
      },
      "outputs": [
        {
          "output_type": "stream",
          "name": "stdout",
          "text": [
            "Data has been written to BritishAirwayReviews.csv\n"
          ]
        }
      ],
      "source": [
        "import csv\n",
        "\n",
        "# CSV file path\n",
        "csv_file_path = 'BritishAirwayReviews.csv'\n",
        "\n",
        "# Writing to CSV file\n",
        "with open(csv_file_path, 'w', newline='', encoding='utf-8') as csvfile:\n",
        "    fieldnames = list(Reviews[0].keys())\n",
        "    writer = csv.DictWriter(csvfile, fieldnames=fieldnames)\n",
        "\n",
        "    # Write the header\n",
        "    writer.writeheader()\n",
        "\n",
        "    # Write the data\n",
        "    writer.writerows(Reviews)\n",
        "\n",
        "print(f'Data has been written to {csv_file_path}')"
      ]
    }
  ],
  "metadata": {
    "kernelspec": {
      "display_name": "Python 3",
      "language": "python",
      "name": "python3"
    },
    "language_info": {
      "codemirror_mode": {
        "name": "ipython",
        "version": 3
      },
      "file_extension": ".py",
      "mimetype": "text/x-python",
      "name": "python",
      "nbconvert_exporter": "python",
      "pygments_lexer": "ipython3",
      "version": "3.8.5"
    },
    "colab": {
      "provenance": [],
      "include_colab_link": true
    }
  },
  "nbformat": 4,
  "nbformat_minor": 0
}